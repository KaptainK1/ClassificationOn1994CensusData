{
  "nbformat": 4,
  "nbformat_minor": 0,
  "metadata": {
    "colab": {
      "name": "Assignment2.ipynb",
      "provenance": [],
      "collapsed_sections": [],
      "authorship_tag": "ABX9TyO58SAwfqFhVLVgN2IuCza7",
      "include_colab_link": true
    },
    "kernelspec": {
      "name": "python3",
      "display_name": "Python 3"
    },
    "language_info": {
      "name": "python"
    }
  },
  "cells": [
    {
      "cell_type": "markdown",
      "metadata": {
        "id": "view-in-github",
        "colab_type": "text"
      },
      "source": [
        "<a href=\"https://colab.research.google.com/github/KaptainK1/ClassificationOn1994CensusData/blob/master/Assignment2.ipynb\" target=\"_parent\"><img src=\"https://colab.research.google.com/assets/colab-badge.svg\" alt=\"Open In Colab\"/></a>"
      ]
    },
    {
      "cell_type": "code",
      "metadata": {
        "colab": {
          "base_uri": "https://localhost:8080/"
        },
        "id": "c3FnpAiX68GC",
        "outputId": "7d1d0af1-9431-477e-acb3-858c858ce0a4"
      },
      "source": [
        "# import libraries \n",
        "from sklearn.tree import DecisionTreeClassifier\n",
        "from sklearn.ensemble import RandomForestClassifier\n",
        "from sklearn.model_selection import train_test_split\n",
        "from sklearn.metrics import confusion_matrix\n",
        "from sklearn.metrics import plot_confusion_matrix\n",
        "from sklearn.metrics import recall_score\n",
        "from sklearn.metrics import precision_score\n",
        "import matplotlib.pyplot as plt\n",
        "import pandas as pd\n",
        "import numpy as np\n",
        "import sklearn\n",
        "print(sklearn.__version__)"
      ],
      "execution_count": 29,
      "outputs": [
        {
          "output_type": "stream",
          "name": "stdout",
          "text": [
            "0.22.2.post1\n"
          ]
        }
      ]
    },
    {
      "cell_type": "code",
      "metadata": {
        "colab": {
          "base_uri": "https://localhost:8080/"
        },
        "id": "T33aad698nYq",
        "outputId": "2edc8552-d207-4cad-b3f6-5461990ef354"
      },
      "source": [
        "#create the header list as our data does not include headers\n",
        "header_list = ['Age', 'Workclass', 'Education', 'Martial-Status', 'Occupation',\n",
        "              'Relationship', 'Race', 'Sex','Captial-Gain', 'Captial-Loss',\n",
        "              'Hours-Per-Week', 'Native-Country', 'Income-Range']\n",
        "\n",
        "print(header_list)\n",
        "\n",
        "# import the training data and parse ? values to be NaN\n",
        "training_data_without_headers = pd.read_csv('adult_train.txt', na_values=' ?')\n",
        "\n",
        "# converting data frame to csv\n",
        "training_data_without_headers.to_csv(\"adult_train_with_headers.csv\", header=header_list, index=False)\n",
        "  \n",
        "# create the new file with attached headers\n",
        "training_data = pd.read_csv(\"adult_train_with_headers.csv\")\n",
        "\n",
        "# create the test data\n",
        "test_data = pd.read_csv('adult_test.txt')\n"
      ],
      "execution_count": 3,
      "outputs": [
        {
          "output_type": "stream",
          "name": "stdout",
          "text": [
            "['Age', 'Workclass', 'Education', 'Martial-Status', 'Occupation', 'Relationship', 'Race', 'Sex', 'Captial-Gain', 'Captial-Loss', 'Hours-Per-Week', 'Native-Country', 'Income-Range']\n"
          ]
        }
      ]
    },
    {
      "cell_type": "code",
      "metadata": {
        "colab": {
          "base_uri": "https://localhost:8080/"
        },
        "id": "eY8HYm_AClWo",
        "outputId": "9047ae65-a71b-4c34-f944-588b9b39b59c"
      },
      "source": [
        "# check for is na\n",
        "training_data.isna().sum()"
      ],
      "execution_count": 43,
      "outputs": [
        {
          "output_type": "execute_result",
          "data": {
            "text/plain": [
              "Age                              0\n",
              "Captial-Gain                     0\n",
              "Captial-Loss                     0\n",
              "Hours-Per-Week                   0\n",
              "Workclass_ Federal-gov           0\n",
              "                                ..\n",
              "Native-Country_ United-States    0\n",
              "Native-Country_ Vietnam          0\n",
              "Native-Country_ Yugoslavia       0\n",
              "Income-Range_ <=50K              0\n",
              "Income-Range_ >50K               0\n",
              "Length: 105, dtype: int64"
            ]
          },
          "metadata": {},
          "execution_count": 43
        }
      ]
    },
    {
      "cell_type": "code",
      "metadata": {
        "id": "EtQ_ErkDJQ8A"
      },
      "source": [
        "# For categorical values, you can substitute with the mode value\n",
        "training_data['Workclass'].fillna(training_data['Workclass'].mode(),inplace=True)\n",
        "training_data['Occupation'].fillna(training_data['Occupation'].mode(),inplace=True)\n",
        "training_data['Native-Country'].fillna(training_data['Native-Country'].mode(),inplace=True)"
      ],
      "execution_count": 5,
      "outputs": []
    },
    {
      "cell_type": "code",
      "metadata": {
        "id": "KuG3XTX5KY1R"
      },
      "source": [
        "#start of step 2, convert features into dummy numerical values instead of named categories\n",
        "pd.get_dummies(training_data).to_csv('training_data_with_dummy_values.csv', index=False)\n",
        "pd.get_dummies(test_data).to_csv('test_data_with_dummy_values.csv', index=False)\n"
      ],
      "execution_count": 6,
      "outputs": []
    },
    {
      "cell_type": "code",
      "metadata": {
        "colab": {
          "base_uri": "https://localhost:8080/"
        },
        "id": "NJhm_8nOfpm-",
        "outputId": "98d0b210-8b47-4b45-c722-d2f74eb36e25"
      },
      "source": [
        "# set our training data to the result of the get dummies pandas function\n",
        "training_data = pd.read_csv('training_data_with_dummy_values.csv')\n",
        "\n",
        "print(type(training_data))\n",
        "\n",
        "#set our data to be all of the attributes except the target\n",
        "data = training_data.drop([\"Income-Range_ >50K\", \"Income-Range_ <=50K\"], axis=1)\n",
        "print(data)\n",
        "\n",
        "# pick our output target (ie what do we want to try and predict)\n",
        "# to be Income-Range_ >50K column\n",
        "target = training_data[\"Income-Range_ >50K\"]\n",
        "\n",
        "print(target)\n",
        "\n",
        "# Randomly split the dataset into train and test set \n",
        "train_set, test_set, train_label, test_label = train_test_split(\n",
        "    data,\n",
        "    target,\n",
        "    train_size = 0.70,\n",
        "    random_state = 5,\n",
        "    shuffle = True\n",
        ")\n",
        "\n",
        "# Verify the split is done right \n",
        "print(train_set.shape, test_set.shape)"
      ],
      "execution_count": 44,
      "outputs": [
        {
          "output_type": "stream",
          "name": "stdout",
          "text": [
            "<class 'pandas.core.frame.DataFrame'>\n",
            "       Age  Captial-Gain  ...  Native-Country_ Vietnam  Native-Country_ Yugoslavia\n",
            "0       50             0  ...                        0                           0\n",
            "1       38             0  ...                        0                           0\n",
            "2       53             0  ...                        0                           0\n",
            "3       28             0  ...                        0                           0\n",
            "4       37             0  ...                        0                           0\n",
            "...    ...           ...  ...                      ...                         ...\n",
            "32555   27             0  ...                        0                           0\n",
            "32556   40             0  ...                        0                           0\n",
            "32557   58             0  ...                        0                           0\n",
            "32558   22             0  ...                        0                           0\n",
            "32559   52         15024  ...                        0                           0\n",
            "\n",
            "[32560 rows x 103 columns]\n",
            "0        0\n",
            "1        0\n",
            "2        0\n",
            "3        0\n",
            "4        0\n",
            "        ..\n",
            "32555    0\n",
            "32556    1\n",
            "32557    0\n",
            "32558    0\n",
            "32559    1\n",
            "Name: Income-Range_ >50K, Length: 32560, dtype: int64\n",
            "(22792, 103) (9768, 103)\n"
          ]
        }
      ]
    },
    {
      "cell_type": "code",
      "metadata": {
        "colab": {
          "base_uri": "https://localhost:8080/"
        },
        "id": "YtLrGzTqmOJY",
        "outputId": "d4372acd-6fa7-4a63-b7fb-2de84d028c61"
      },
      "source": [
        "# Create a Decision Tree Classifier \n",
        "classifier = DecisionTreeClassifier()\n",
        "\n",
        "# training a decision tree \n",
        "classifier.fit(train_set, train_label)\n",
        "\n",
        "# predictions = classifier.predict(test_set)\n",
        "# print the result of prediction \n",
        "print(classifier.score(test_set, test_label))\n",
        "\n"
      ],
      "execution_count": 45,
      "outputs": [
        {
          "output_type": "stream",
          "name": "stdout",
          "text": [
            "0.8151105651105651\n"
          ]
        }
      ]
    },
    {
      "cell_type": "code",
      "metadata": {
        "id": "M1QQIsFlymI8"
      },
      "source": [
        "# Visualize the tree \n",
        "# from sklearn import tree\n",
        "# tree.plot_tree(classifier)"
      ],
      "execution_count": 199,
      "outputs": []
    },
    {
      "cell_type": "code",
      "metadata": {
        "colab": {
          "base_uri": "https://localhost:8080/",
          "height": 297
        },
        "id": "UI1eCaxW6_g8",
        "outputId": "f26c8634-b73e-433e-cc7f-ee45ee716b5a"
      },
      "source": [
        "#Step 3 part 1 for setting the max_depth\n",
        "\n",
        "#array to hold the training accuracy results\n",
        "training_accuracy = []\n",
        "\n",
        "#array to hold the test accuracy results\n",
        "test_accuracy = []\n",
        "\n",
        "#array to hold our x-axis values, necessary for plotting on the graph\n",
        "x_axis = []\n",
        "\n",
        "#loop 30 times, each time testing a new increment for max_depth\n",
        "for x in range(1,30):\n",
        "  x_axis.append(x)\n",
        "\n",
        "  #create the max depth decision tree\n",
        "  maxDepthTree = DecisionTreeClassifier(max_depth=x)\n",
        "\n",
        "  #fit to our training model\n",
        "  maxDepthTree.fit(train_set, train_label)\n",
        "\n",
        "  #set the test results based on score, then append to our test accuracy array\n",
        "  test_results = maxDepthTree.score(test_set, test_label)\n",
        "  test_accuracy.append(test_results)\n",
        "\n",
        "  #set the training results based on score, then append to our training accuracy array\n",
        "  training_results = maxDepthTree.score(train_set, train_label)\n",
        "  training_accuracy.append(training_results)\n",
        "\n",
        "#now we need to plot our data using matplotlib.pyplot\n",
        "#plot the first line which is our training accuracy\n",
        "plt.plot(x_axis,training_accuracy, label='Training Set')\n",
        "\n",
        "#plot the second line which is our training accuracy\n",
        "plt.plot(x_axis,test_accuracy, label='Test Set')\n",
        "\n",
        "#set the x and y labels\n",
        "plt.xlabel('max_depth value')\n",
        "plt.ylabel('accuracy value')\n",
        "plt.legend()"
      ],
      "execution_count": 46,
      "outputs": [
        {
          "output_type": "execute_result",
          "data": {
            "text/plain": [
              "<matplotlib.legend.Legend at 0x7ff3972209d0>"
            ]
          },
          "metadata": {},
          "execution_count": 46
        },
        {
          "output_type": "display_data",
          "data": {
            "image/png": "[encoded data removed]",
            "text/plain": [
              "<Figure size 432x288 with 1 Axes>"
            ]
          },
          "metadata": {
            "needs_background": "light"
          }
        }
      ]
    },
    {
      "cell_type": "code",
      "metadata": {
        "colab": {
          "base_uri": "https://localhost:8080/",
          "height": 297
        },
        "id": "rCzNmXLL6-oa",
        "outputId": "8dd0e3c5-a015-48d3-cfa3-78631ab2e0ba"
      },
      "source": [
        "#Step 3 part 2 for setting the min_samples_leaf\n",
        "\n",
        "#array to hold the training accuracy results\n",
        "training_accuracy = []\n",
        "\n",
        "#array to hold the test accuracy results\n",
        "test_accuracy = []\n",
        "\n",
        "#array to hold our x-axis values, necessary for plotting on the graph\n",
        "x_axis = []\n",
        "\n",
        "#loop 30 times, each time testing a new increment for max_depth\n",
        "for x in range(1,50):\n",
        "  x_axis.append(x)\n",
        "\n",
        "  #create the max depth decision tree\n",
        "  maxDepthTree = DecisionTreeClassifier(min_samples_leaf=x)\n",
        "\n",
        "  #fit to our training model\n",
        "  maxDepthTree.fit(train_set, train_label)\n",
        "\n",
        "  #set the test results based on score, then append to our test accuracy array\n",
        "  test_results = maxDepthTree.score(test_set, test_label)\n",
        "  test_accuracy.append(test_results)\n",
        "\n",
        "  #set the training results based on score, then append to our training accuracy array\n",
        "  training_results = maxDepthTree.score(train_set, train_label)\n",
        "  training_accuracy.append(training_results)\n",
        "\n",
        "#now we need to plot our data using matplotlib.pyplot\n",
        "#plot the first line which is our training accuracy\n",
        "plt.plot(x_axis,training_accuracy, label='Training Set')\n",
        "\n",
        "#plot the second line which is our training accuracy\n",
        "plt.plot(x_axis,test_accuracy, label='Test Set')\n",
        "\n",
        "#set the x and y labels\n",
        "plt.xlabel('min_samples_leaf value')\n",
        "plt.ylabel('accuracy value')\n",
        "plt.legend()"
      ],
      "execution_count": 47,
      "outputs": [
        {
          "output_type": "execute_result",
          "data": {
            "text/plain": [
              "<matplotlib.legend.Legend at 0x7ff397185750>"
            ]
          },
          "metadata": {},
          "execution_count": 47
        },
        {
          "output_type": "display_data",
          "data": {
            "image/png": "[encoded data removed]",
            "text/plain": [
              "<Figure size 432x288 with 1 Axes>"
            ]
          },
          "metadata": {
            "needs_background": "light"
          }
        }
      ]
    },
    {
      "cell_type": "code",
      "metadata": {
        "colab": {
          "base_uri": "https://localhost:8080/",
          "height": 297
        },
        "id": "ETAPqb3qyvT4",
        "outputId": "79a77d71-a1d9-4530-9119-8956a818257d"
      },
      "source": [
        "# step 4 using a random forest\n",
        "\n",
        "random_forest_train_results = []\n",
        "random_forest_test_results = []\n",
        "x_axis = []\n",
        "\n",
        "#use a for loop to loop over 50 iterations testing the n_estimators parameter\n",
        "# set the max_depth to 8 and min_samples_leaf to 24 from what we found in earlier\n",
        "# testing with the DecisionTreeClassifier\n",
        "for x in range(1,50):\n",
        "  x_axis.append(x)\n",
        "  random_forest = RandomForestClassifier(n_estimators=x, max_depth=8,\n",
        "                             min_samples_split=2, min_samples_leaf=24, random_state=0)\n",
        "  \n",
        "  # fit and get the results for our training data. Finally add it to our\n",
        "  # random_forest_results list\n",
        "  random_forest.fit(train_set, train_label)\n",
        "  random_forest_results = random_forest.score(train_set, train_label)\n",
        "  random_forest_train_results.append(random_forest_results)\n",
        "\n",
        "  # fit and get the results for our test data. Finally add it to our\n",
        "  # random_forest_results list\n",
        "  random_forest.fit(test_set, test_label)\n",
        "  random_forest_results = random_forest.score(test_set, test_label)\n",
        "  random_forest_test_results.append(random_forest_results)\n",
        "\n",
        "\n",
        "#now we need to plot our data using matplotlib.pyplot\n",
        "#plot the first line which is our training accuracy\n",
        "plt.plot(x_axis,random_forest_train_results, label='Training Set')\n",
        "\n",
        "#plot the second line which is our training accuracy\n",
        "plt.plot(x_axis,random_forest_test_results, label='Test Set')\n",
        "\n",
        "#set the x and y labels\n",
        "plt.xlabel('min_samples_split value')\n",
        "plt.ylabel('accuracy value')\n",
        "plt.legend()"
      ],
      "execution_count": 58,
      "outputs": [
        {
          "output_type": "execute_result",
          "data": {
            "text/plain": [
              "<matplotlib.legend.Legend at 0x7ff396f084d0>"
            ]
          },
          "metadata": {},
          "execution_count": 58
        },
        {
          "output_type": "display_data",
          "data": {
            "image/png": "[encoded data removed]",
            "text/plain": [
              "<Figure size 432x288 with 1 Axes>"
            ]
          },
          "metadata": {
            "needs_background": "light"
          }
        }
      ]
    },
    {
      "cell_type": "code",
      "metadata": {
        "colab": {
          "base_uri": "https://localhost:8080/"
        },
        "id": "0ul9g_9L_Uw4",
        "outputId": "639e0d23-75b2-4022-f705-d0d1e5052abd"
      },
      "source": [
        "#step 5 Accuracy - evaluation with best RandomTree and DecisionClassiferies\n",
        "\n",
        "random_forest = RandomForestClassifier(n_estimators=18, max_depth=8,\n",
        "                             min_samples_split=2, min_samples_leaf=24, random_state=0)\n",
        "\n",
        "decision_tree = DecisionTreeClassifier(min_samples_leaf=24, max_depth=8)\n",
        "\n",
        "random_forest.fit(train_set, train_label)\n",
        "random_forest_prediction = random_forest.predict(test_set)\n",
        "print(random_forest_prediction)\n",
        "random_forest_score = random_forest.score(test_set, test_label)\n",
        "print(f'The accuracy of the random forest on the training set is {random_forest_score}')\n",
        "\n",
        "decision_tree.fit(train_set, train_label)\n",
        "decision_tree_prediction = decision_tree.predict(test_set)\n",
        "print(decision_tree_prediction)\n",
        "decision_tree_score = decision_tree.score(test_set, test_label)\n",
        "print(f'The accuracy of the decision tree on the training set is {decision_tree_score}')\n",
        "\n",
        "\n"
      ],
      "execution_count": 49,
      "outputs": [
        {
          "output_type": "stream",
          "name": "stdout",
          "text": [
            "[0 0 1 ... 0 0 0]\n",
            "The accuracy of the random forest on the training set is 0.8508394758394758\n",
            "[0 0 1 ... 0 0 0]\n",
            "The accuracy of the decision tree on the training set is 0.8520679770679771\n"
          ]
        }
      ]
    },
    {
      "cell_type": "code",
      "metadata": {
        "colab": {
          "base_uri": "https://localhost:8080/",
          "height": 296
        },
        "id": "_dKgfSJFB4SB",
        "outputId": "1cced40a-6daf-4cb4-8824-b084a7afdba6"
      },
      "source": [
        "#step 5 Confusion Matrix - evaluation with best RandomTree\n",
        "\n",
        "confusion_matrix(test_label,random_forest_prediction)\n",
        "plot_confusion_matrix(random_forest, train_set,train_label)\n"
      ],
      "execution_count": 50,
      "outputs": [
        {
          "output_type": "execute_result",
          "data": {
            "text/plain": [
              "<sklearn.metrics._plot.confusion_matrix.ConfusionMatrixDisplay at 0x7ff397111890>"
            ]
          },
          "metadata": {},
          "execution_count": 50
        },
        {
          "output_type": "display_data",
          "data": {
            "image/png": "[encoded data removed]",
            "text/plain": [
              "<Figure size 432x288 with 2 Axes>"
            ]
          },
          "metadata": {
            "needs_background": "light"
          }
        }
      ]
    },
    {
      "cell_type": "code",
      "metadata": {
        "colab": {
          "base_uri": "https://localhost:8080/",
          "height": 296
        },
        "id": "lXWQ-9XsDUa_",
        "outputId": "ab87ef95-b2a5-4a42-ea22-c637a2c2cd78"
      },
      "source": [
        "#step 5 Confusion Matrix - evaluation with best DecisionClassiferies\n",
        "confusion_matrix(test_label,decision_tree_prediction)\n",
        "plot_confusion_matrix(decision_tree, train_set,train_label)"
      ],
      "execution_count": 51,
      "outputs": [
        {
          "output_type": "execute_result",
          "data": {
            "text/plain": [
              "<sklearn.metrics._plot.confusion_matrix.ConfusionMatrixDisplay at 0x7ff397009bd0>"
            ]
          },
          "metadata": {},
          "execution_count": 51
        },
        {
          "output_type": "display_data",
          "data": {
            "image/png": "[encoded data removed]",
            "text/plain": [
              "<Figure size 432x288 with 2 Axes>"
            ]
          },
          "metadata": {
            "needs_background": "light"
          }
        }
      ]
    },
    {
      "cell_type": "code",
      "metadata": {
        "colab": {
          "base_uri": "https://localhost:8080/"
        },
        "id": "angBLkSXFFNo",
        "outputId": "4b159b88-4db1-49c6-93e7-052073f6412f"
      },
      "source": [
        "#Step 5 recall scores\n",
        "\n",
        "#random forest predictions against the test set labels\n",
        "print(recall_score(test_label, random_forest_prediction, average='macro'))\n",
        "print(recall_score(test_label, random_forest_prediction, average='micro'))\n",
        "\n",
        "#decision tree predictions against the test set labels\n",
        "print(recall_score(test_label, decision_tree_prediction, average='macro'))\n",
        "print(recall_score(test_label, decision_tree_prediction, average='micro'))"
      ],
      "execution_count": 52,
      "outputs": [
        {
          "output_type": "stream",
          "name": "stdout",
          "text": [
            "0.7245928130151329\n",
            "0.8508394758394758\n",
            "0.754492097583795\n",
            "0.8520679770679771\n"
          ]
        }
      ]
    },
    {
      "cell_type": "code",
      "metadata": {
        "colab": {
          "base_uri": "https://localhost:8080/"
        },
        "id": "4RJZCFNbIsG9",
        "outputId": "5d1dce81-ed78-4d5c-f2ed-2e425f998535"
      },
      "source": [
        "#Step 5 precision scores\n",
        "\n",
        "#random forest predictions against the test set labels\n",
        "print(precision_score(test_label, random_forest_prediction, average='macro'))\n",
        "print(precision_score(test_label, random_forest_prediction, average='micro'))\n",
        "print(precision_score(test_label, random_forest_prediction, average='weighted'))\n",
        "print()\n",
        "#decision tree predictions against the test set labels\n",
        "print(precision_score(test_label, decision_tree_prediction, average='macro'))\n",
        "print(precision_score(test_label, decision_tree_prediction, average='micro'))\n",
        "print(precision_score(test_label, decision_tree_prediction, average='weighted'))"
      ],
      "execution_count": 57,
      "outputs": [
        {
          "output_type": "stream",
          "name": "stdout",
          "text": [
            "0.8330560154818547\n",
            "0.8508394758394758\n",
            "0.8461355293622669\n",
            "\n",
            "0.8105778675772789\n",
            "0.8520679770679771\n",
            "0.8447915776157771\n"
          ]
        }
      ]
    }
  ]
}